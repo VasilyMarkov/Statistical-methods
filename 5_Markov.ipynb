{
 "cells": [
  {
   "cell_type": "markdown",
   "id": "32a41e40-6cf7-4ff7-97e7-9f3c2c5ad604",
   "metadata": {},
   "source": [
    "# Вопрос 1\n",
    "Нулевая гипотеза - это предположение, что результат не может быть получен в конкретном исследовании.\n",
    "Нулевой гипотезой при нахождении новой частицы, предположение о том, что частицы не существует."
   ]
  },
  {
   "cell_type": "markdown",
   "id": "2579ec65-4405-49a5-ae83-1c9e4c5a2743",
   "metadata": {},
   "source": [
    "# Задача 5\n",
    "В одной пачке распределение цветов не равномерное. Гипотеза опровергнута для одной пачки. Исходя из данных условий проверить гипотезу на большей выборке невозможно.\n",
    "\n",
    "P.S. Сумма цветов равна 101% - это ошибка?"
   ]
  },
  {
   "cell_type": "markdown",
   "id": "0fc42c13-ab2e-4d70-a03d-2cb46e2e56fc",
   "metadata": {},
   "source": [
    "# Задача 5\n",
    "Монетка может быть честной даже если 1000 раз выпадет одна сторона т.к. значение вероятности события является лишь пределом при стремлении размера выборки к бесконечности.  "
   ]
  }
 ],
 "metadata": {
  "kernelspec": {
   "display_name": "Python 3 (ipykernel)",
   "language": "python",
   "name": "python3"
  },
  "language_info": {
   "codemirror_mode": {
    "name": "ipython",
    "version": 3
   },
   "file_extension": ".py",
   "mimetype": "text/x-python",
   "name": "python",
   "nbconvert_exporter": "python",
   "pygments_lexer": "ipython3",
   "version": "3.10.12"
  }
 },
 "nbformat": 4,
 "nbformat_minor": 5
}
